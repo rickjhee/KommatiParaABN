{
  "nbformat": 4,
  "nbformat_minor": 0,
  "metadata": {
    "colab": {
      "name": "Exercise_ABN.ipynb",
      "provenance": [],
      "authorship_tag": "ABX9TyPNt5HUzEuW9yHrGPQMnzFZ",
      "include_colab_link": true
    },
    "kernelspec": {
      "name": "python3",
      "display_name": "Python 3"
    },
    "language_info": {
      "name": "python"
    }
  },
  "cells": [
    {
      "cell_type": "markdown",
      "metadata": {
        "id": "view-in-github",
        "colab_type": "text"
      },
      "source": [
        "<a href=\"https://colab.research.google.com/github/rickjhee/KommatiParaABN/blob/development/Exercise_ABN.ipynb\" target=\"_parent\"><img src=\"https://colab.research.google.com/assets/colab-badge.svg\" alt=\"Open In Colab\"/></a>"
      ]
    },
    {
      "cell_type": "markdown",
      "metadata": {
        "id": "9i2IK4NVo6Sn"
      },
      "source": [
        "## ABN Exercise for KommatiPara\n"
      ]
    },
    {
      "cell_type": "code",
      "metadata": {
        "colab": {
          "base_uri": "https://localhost:8080/"
        },
        "id": "LEUIURPomAky",
        "outputId": "bcbdd57c-4be8-45cf-e13d-9bb6c1807195"
      },
      "source": [
        "!pip install pyspark"
      ],
      "execution_count": 2,
      "outputs": [
        {
          "output_type": "stream",
          "text": [
            "Collecting pyspark\n",
            "\u001b[?25l  Downloading https://files.pythonhosted.org/packages/45/b0/9d6860891ab14a39d4bddf80ba26ce51c2f9dc4805e5c6978ac0472c120a/pyspark-3.1.1.tar.gz (212.3MB)\n",
            "\u001b[K     |████████████████████████████████| 212.3MB 68kB/s \n",
            "\u001b[?25hCollecting py4j==0.10.9\n",
            "\u001b[?25l  Downloading https://files.pythonhosted.org/packages/9e/b6/6a4fb90cd235dc8e265a6a2067f2a2c99f0d91787f06aca4bcf7c23f3f80/py4j-0.10.9-py2.py3-none-any.whl (198kB)\n",
            "\u001b[K     |████████████████████████████████| 204kB 16.6MB/s \n",
            "\u001b[?25hBuilding wheels for collected packages: pyspark\n",
            "  Building wheel for pyspark (setup.py) ... \u001b[?25l\u001b[?25hdone\n",
            "  Created wheel for pyspark: filename=pyspark-3.1.1-py2.py3-none-any.whl size=212767604 sha256=7b32cc1e082b6ec7a8dd4e8875164213148e3575f7a10c13cc4e00b869d55c42\n",
            "  Stored in directory: /root/.cache/pip/wheels/0b/90/c0/01de724414ef122bd05f056541fb6a0ecf47c7ca655f8b3c0f\n",
            "Successfully built pyspark\n",
            "Installing collected packages: py4j, pyspark\n",
            "Successfully installed py4j-0.10.9 pyspark-3.1.1\n"
          ],
          "name": "stdout"
        }
      ]
    },
    {
      "cell_type": "code",
      "metadata": {
        "id": "g5V73tOll0Ll"
      },
      "source": [
        "from pyspark.sql import SparkSession\n",
        "\n",
        "spark = SparkSession \\\n",
        "    .builder \\\n",
        "    .appName(\"Python Spark SQL basic example\") \\\n",
        "    .config(\"spark.some.config.option\", \"some-value\") \\\n",
        "    .getOrCreate()\n",
        "\n",
        "from pyspark.sql.functions import col\n",
        "import logging\n",
        "import os\n",
        "\n",
        "logging.basicConfig(filename='/application.log', encoding='utf-8', level=logging.DEBUG)"
      ],
      "execution_count": 50,
      "outputs": []
    },
    {
      "cell_type": "markdown",
      "metadata": {
        "id": "SUjhUJVcopOh"
      },
      "source": [
        ""
      ]
    },
    {
      "cell_type": "code",
      "metadata": {
        "colab": {
          "base_uri": "https://localhost:8080/"
        },
        "id": "tKgNsTijmAEQ",
        "outputId": "ebdf599f-7462-4043-aeb7-bdfd8dec5df4"
      },
      "source": [
        "# Download the datasets from the Github repository\n",
        "logging.info('Reading datasets from Github')\n",
        "!wget --no-check-certificate \\\n",
        "    https://raw.githubusercontent.com/rickjhee/KommatiParaABN/main/dataset_one.csv \\\n",
        "    -O /tmp/dataset_one.csv\n",
        "\n",
        "!wget --no-check-certificate \\\n",
        "    https://raw.githubusercontent.com/rickjhee/KommatiParaABN/main/dataset_two.csv \\\n",
        "    -O /tmp/dataset_two.csv"
      ],
      "execution_count": 51,
      "outputs": [
        {
          "output_type": "stream",
          "text": [
            "--2021-05-18 09:30:30--  https://raw.githubusercontent.com/rickjhee/KommatiParaABN/main/dataset_one.csv\n",
            "Resolving raw.githubusercontent.com (raw.githubusercontent.com)... 185.199.108.133, 185.199.109.133, 185.199.110.133, ...\n",
            "Connecting to raw.githubusercontent.com (raw.githubusercontent.com)|185.199.108.133|:443... connected.\n",
            "HTTP request sent, awaiting response... 200 OK\n",
            "Length: 52041 (51K) [text/plain]\n",
            "Saving to: ‘/tmp/dataset_one.csv’\n",
            "\n",
            "\r/tmp/dataset_one.cs   0%[                    ]       0  --.-KB/s               \r/tmp/dataset_one.cs 100%[===================>]  50.82K  --.-KB/s    in 0.01s   \n",
            "\n",
            "2021-05-18 09:30:30 (4.77 MB/s) - ‘/tmp/dataset_one.csv’ saved [52041/52041]\n",
            "\n",
            "--2021-05-18 09:30:30--  https://raw.githubusercontent.com/rickjhee/KommatiParaABN/main/dataset_two.csv\n",
            "Resolving raw.githubusercontent.com (raw.githubusercontent.com)... 185.199.110.133, 185.199.109.133, 185.199.111.133, ...\n",
            "Connecting to raw.githubusercontent.com (raw.githubusercontent.com)|185.199.110.133|:443... connected.\n",
            "HTTP request sent, awaiting response... 200 OK\n",
            "Length: 64985 (63K) [text/plain]\n",
            "Saving to: ‘/tmp/dataset_two.csv’\n",
            "\n",
            "/tmp/dataset_two.cs 100%[===================>]  63.46K  --.-KB/s    in 0.01s   \n",
            "\n",
            "2021-05-18 09:30:30 (5.51 MB/s) - ‘/tmp/dataset_two.csv’ saved [64985/64985]\n",
            "\n"
          ],
          "name": "stdout"
        }
      ]
    },
    {
      "cell_type": "code",
      "metadata": {
        "id": "XTk4EUQZyR2B"
      },
      "source": [
        "def perform_data_operations(dataset_1, dataset_2):\n",
        "  \"\"\"\n",
        "  Performs data operations based on several requirements \n",
        "\n",
        "  Inputs: dataset_1, dataset_2\n",
        "  Outputs: joined dataset\n",
        "  \"\"\"\n",
        "  # Requirement 2: Only use clients from the UK or NL\n",
        "  dataset_1 = dataset_1.filter( (dataset_1.country  == \"United Kingdom\") | (dataset_1.country == \"Netherlands\") )\n",
        "\n",
        "  # Requirement 3: Remove personal identifiable information from the first dataset, excluding emails.\n",
        "  dataset_1 = dataset_1.drop('first_name', 'last_name')\n",
        "\n",
        "  #Requirement 4: Remove credit card number from the second dataset.\n",
        "  dataset_2 = dataset_2.drop('cc_n')\n",
        "\n",
        "  # Requirement 5: Data should be joined using the id field.\n",
        "  joined = dataset_1.join(dataset_2, on='id')\n",
        "\n",
        "  # Requirement 6:\tRename the columns for the easier readability to the business users \n",
        "  rename_dict = {'id': 'client_identifier', 'btc_a': 'bitcoin_address', 'cc_t': 'credit_card_type'}\n",
        "\n",
        "  joined = joined.select([col(c).alias(rename_dict.get(c, c)) for c in joined.columns]) \n",
        "\n",
        "  return joined"
      ],
      "execution_count": 53,
      "outputs": []
    },
    {
      "cell_type": "code",
      "metadata": {
        "colab": {
          "base_uri": "https://localhost:8080/"
        },
        "id": "L0wb5f11m7Ye",
        "outputId": "267cc63e-2bdb-4823-818b-72a8eddf8a2d"
      },
      "source": [
        "df1 = spark.read.csv(\"/tmp/dataset_one.csv\", header=True)\n",
        "df2 = spark.read.csv(\"/tmp/dataset_two.csv\", header=True)\n",
        "# Displays the content of the DataFrame to stdout\n",
        "\n",
        "df1.show()\n",
        "df2.show()"
      ],
      "execution_count": 54,
      "outputs": [
        {
          "output_type": "stream",
          "text": [
            "+---+----------+----------+--------------------+--------------+\n",
            "| id|first_name| last_name|               email|       country|\n",
            "+---+----------+----------+--------------------+--------------+\n",
            "|  1|    Feliza|    Eusden|  feusden0@ameblo.jp|        France|\n",
            "|  2| Priscilla|   Le Pine|plepine1@biglobe....|        France|\n",
            "|  3|    Jaimie|    Sandes|jsandes2@reuters.com|        France|\n",
            "|  4|      Nari|   Dolphin|ndolphin3@cbsloca...|        France|\n",
            "|  5|     Garik|     Farre|gfarre4@economist...|        France|\n",
            "|  6|   Kordula|   Broodes| kbroodes5@amazon.de|        France|\n",
            "|  7|     Rakel|   Ingliby|    ringliby6@ft.com| United States|\n",
            "|  8|      Derk| Mattielli|dmattielli7@slide...| United States|\n",
            "|  9|    Karrah|   Boshard|   kboshard8@ihg.com|        France|\n",
            "| 10| Friedrich|  Kreutzer|fkreutzer9@busine...|        France|\n",
            "| 11|      Conn|   Claiden| cclaidena@vimeo.com|        France|\n",
            "| 12|     Karel|   Crippin| kcrippinb@google.pl|        France|\n",
            "| 13| Millisent|     Joint| mjointc@state.tx.us|        France|\n",
            "| 14|   Valeria|McCloughen| vmccloughend@gov.uk|        France|\n",
            "| 15|   Monique|  Bernardo|mbernardoe@scient...| United States|\n",
            "| 16|    Callie|    d'Arcy|cdarcyf@people.co...| United States|\n",
            "| 17|   Demetri|Bridgwater|dbridgwaterg@youk...| United States|\n",
            "| 18|   Richard|    Drinan|rdrinanh@odnoklas...|United Kingdom|\n",
            "| 19|    Benjie|  Stuttman|bstuttmani@cpanel...| United States|\n",
            "| 20|  Claresta|Martinetto|cmartinettoj@mapy.cz|        France|\n",
            "+---+----------+----------+--------------------+--------------+\n",
            "only showing top 20 rows\n",
            "\n",
            "+---+--------------------+--------------------+------------------+\n",
            "| id|               btc_a|                cc_t|              cc_n|\n",
            "+---+--------------------+--------------------+------------------+\n",
            "|  1|1wjtPamAZeGhRnZfh...|       visa-electron|  4175006996999270|\n",
            "|  2|1Js9BA1rV31hJFmN2...|                 jcb|  3587679584356527|\n",
            "|  3|1CoG9ciLQVQCnia5o...| diners-club-enroute|   201876885481838|\n",
            "|  4|1GNvinVKGzPBVNZSc...|              switch|564182038040530730|\n",
            "|  5|1DHTzZ7ypu3EzWtLB...|                 jcb|  3555559025151828|\n",
            "|  6|1LWktvit3XBCJNrsj...|                 jcb|  3580083825272493|\n",
            "|  7|1J71SRGqUjhqPuHaZ...|              switch|491193585665108260|\n",
            "|  8|1Q5FAwgXbhRxP1uYp...|          mastercard|  5100174550682620|\n",
            "|  9|1QKy8RoeWR48nrwkn...|diners-club-carte...|    30343863921001|\n",
            "| 10|1NRDQBCtuDqm8Qomr...|diners-club-carte...|    30559612937267|\n",
            "| 11|1HcqQ5Ys77sJm3ZJv...|                visa|     4937793997478|\n",
            "| 12|1EncEr6Vd5ywk96un...|                 jcb|  3569513122126013|\n",
            "| 13|14bMXV3h1S6KxGHde...|                 jcb|  3537645802098952|\n",
            "| 14|1Gi1ZJsBDqCztVjtc...|            bankcard|  5602232103395992|\n",
            "| 15|1GnNjsnbBTw6w9WHn...|                 jcb|  3558941392668773|\n",
            "| 16|17y4HG6vY9wDZmeu5...|                 jcb|  3579496825654275|\n",
            "| 17|14reD6Z1kUjg8QC5Y...|                 jcb|  3563252716889142|\n",
            "| 18|1ErM8yuF3ytzzxLy1...|      china-unionpay| 56022230876188334|\n",
            "| 19|1FeH4KecDLZYXEcAu...|          mastercard|  5100176279014886|\n",
            "| 20|14iPptCE59bQXGocz...|                 jcb|  3531510529019283|\n",
            "+---+--------------------+--------------------+------------------+\n",
            "only showing top 20 rows\n",
            "\n"
          ],
          "name": "stdout"
        }
      ]
    },
    {
      "cell_type": "code",
      "metadata": {
        "colab": {
          "base_uri": "https://localhost:8080/"
        },
        "id": "knkgCuo-zfUl",
        "outputId": "ae3834d7-6c37-40bc-9e07-fd3e1330996b"
      },
      "source": [
        "joined = perform_data_operations(df1, df2)\n",
        "\n",
        "joined.show()"
      ],
      "execution_count": 57,
      "outputs": [
        {
          "output_type": "stream",
          "text": [
            "+-----------------+--------------------+--------------+--------------------+--------------------+\n",
            "|client_identifier|               email|       country|     bitcoin_address|    credit_card_type|\n",
            "+-----------------+--------------------+--------------+--------------------+--------------------+\n",
            "|               18|rdrinanh@odnoklas...|United Kingdom|1ErM8yuF3ytzzxLy1...|      china-unionpay|\n",
            "|               32|wbamfordv@t-onlin...|United Kingdom|12sxmYnPcADAXw1Yk...|             maestro|\n",
            "|               33|swestallw@blinkli...|United Kingdom|1GZ7QB7GUFSWnkBHm...|          mastercard|\n",
            "|               34|erosengrenx@usato...|United Kingdom|12o8zrHx6snCPbtko...|       visa-electron|\n",
            "|               36|dbuckthorpz@tmall...|   Netherlands|15X53Z9B9jUNrvFpb...|diners-club-inter...|\n",
            "|               62|  bbarham1p@wisc.edu|   Netherlands|16qpYVt6YAAx4JYjz...|                 jcb|\n",
            "|               67|lbeavors1u@techno...|United Kingdom|12ya1ED93ApPBQRSC...|            bankcard|\n",
            "|               70|fdresse1x@bloglin...|United Kingdom|1F8zXTEaf4AFpztMN...|          mastercard|\n",
            "|               91|aeplate2i@webeden...|United Kingdom|19MZSy1H8S4SaXsmS...|diners-club-carte...|\n",
            "|              105|linfante2w@telegr...|   Netherlands|13j6FKzrLgumLUqeY...|                 jcb|\n",
            "|              108|  rpartkya2z@cdc.gov|   Netherlands|1RcsodKknm8thkCL6...|             maestro|\n",
            "|              109|    mdory30@uiuc.edu|   Netherlands|1HxV2jkyM3PXbsH4q...|                 jcb|\n",
            "|              110|rswindle31@tmall.com|   Netherlands|15cRJ4mzZd4Vgd33x...|      china-unionpay|\n",
            "|              124|wdarco3f@geocitie...|   Netherlands|1CB7AdhTFBXmxuABm...|             maestro|\n",
            "|              128|vnapthine3j@ning.com|   Netherlands|16DbYq1KR8DVSQu5E...| diners-club-enroute|\n",
            "|              165|hheinecke4k@alter...|   Netherlands|1KgbP1KXt5xs2sBLu...|                 jcb|\n",
            "|              177|awissbey4w@geocit...|United Kingdom|1AJzqEgbbFh2TNLFZ...|     americanexpress|\n",
            "|              189|     etsar58@ovh.net|   Netherlands|1PktCHyic9G4aZu15...|                 jcb|\n",
            "|              194| igreated5d@live.com|   Netherlands|12KTfvJwTfnJn3dFt...|                 jcb|\n",
            "|              197|  pvolette5g@ask.com|United Kingdom|1Q6UV84patYXfzEdA...| diners-club-enroute|\n",
            "+-----------------+--------------------+--------------+--------------------+--------------------+\n",
            "only showing top 20 rows\n",
            "\n"
          ],
          "name": "stdout"
        }
      ]
    },
    {
      "cell_type": "code",
      "metadata": {
        "id": "oizbicmPqm-G"
      },
      "source": [
        "#Requirement 8: Save the output in a client_data directory in the root directory of the project.\n",
        "os.makedirs('/tmp/client_data', exist_ok=True)\n",
        "logging.info('Saving joined dataset')\n",
        "joined.toPandas().to_csv('/tmp/client_data/client_data.csv')"
      ],
      "execution_count": 60,
      "outputs": []
    }
  ]
}